{
 "cells": [
  {
   "cell_type": "markdown",
   "metadata": {},
   "source": [
    "## Get wikitable from 100 Movie Quotes"
   ]
  },
  {
   "cell_type": "markdown",
   "metadata": {},
   "source": [
    "- https://stackoverflow.com/questions/23377533/python-beautifulsoup-parsing-table\n",
    "- https://stackoverflow.com/questions/15724034/how-to-convert-wikipedia-wikitable-to-python-pandas-dataframe"
   ]
  },
  {
   "cell_type": "code",
   "execution_count": 1,
   "metadata": {},
   "outputs": [],
   "source": [
    "import requests as rq\n",
    "from bs4 import BeautifulSoup\n",
    "import pandas as pd\n",
    "\n",
    "URL = \"https://en.wikipedia.org/wiki/AFI%27s_100_Years...100_Movie_Quotes\"\n",
    "\n",
    "r = rq.get(URL)\n",
    "html = r.text\n",
    "\n",
    "soup = BeautifulSoup(html, 'html.parser')"
   ]
  },
  {
   "cell_type": "code",
   "execution_count": 2,
   "metadata": {},
   "outputs": [],
   "source": [
    "table = soup.find(\"table\", attrs={\"class\":\"wikitable\"})\n",
    "tbody = table.find('tbody')\n",
    "rows = tbody.find_all('tr')"
   ]
  },
  {
   "cell_type": "code",
   "execution_count": 3,
   "metadata": {},
   "outputs": [
    {
     "data": {
      "text/plain": [
       "['Rank', 'Quotation', 'Character', 'Actor/Actress', 'Film', 'Year']"
      ]
     },
     "execution_count": 3,
     "metadata": {},
     "output_type": "execute_result"
    }
   ],
   "source": [
    "header = [i.text.replace(\"\\n\",\"\") for i in rows[0].find_all('th')]\n",
    "header"
   ]
  },
  {
   "cell_type": "code",
   "execution_count": 4,
   "metadata": {},
   "outputs": [
    {
     "data": {
      "text/html": [
       "<div>\n",
       "<style scoped>\n",
       "    .dataframe tbody tr th:only-of-type {\n",
       "        vertical-align: middle;\n",
       "    }\n",
       "\n",
       "    .dataframe tbody tr th {\n",
       "        vertical-align: top;\n",
       "    }\n",
       "\n",
       "    .dataframe thead th {\n",
       "        text-align: right;\n",
       "    }\n",
       "</style>\n",
       "<table border=\"1\" class=\"dataframe\">\n",
       "  <thead>\n",
       "    <tr style=\"text-align: right;\">\n",
       "      <th></th>\n",
       "      <th>Rank</th>\n",
       "      <th>Quotation</th>\n",
       "      <th>Character</th>\n",
       "      <th>Actor/Actress</th>\n",
       "      <th>Film</th>\n",
       "      <th>Year</th>\n",
       "    </tr>\n",
       "  </thead>\n",
       "  <tbody>\n",
       "    <tr>\n",
       "      <th>0</th>\n",
       "      <td>1</td>\n",
       "      <td>\"Frankly, my dear, I don't give a damn.\"</td>\n",
       "      <td>Rhett Butler</td>\n",
       "      <td>Clark Gable</td>\n",
       "      <td>Gone with the Wind</td>\n",
       "      <td>1939</td>\n",
       "    </tr>\n",
       "    <tr>\n",
       "      <th>1</th>\n",
       "      <td>2</td>\n",
       "      <td>\"I'm gonna make him an offer he can't refuse.\"</td>\n",
       "      <td>Vito Corleone</td>\n",
       "      <td>Marlon Brando</td>\n",
       "      <td>The Godfather</td>\n",
       "      <td>1972</td>\n",
       "    </tr>\n",
       "    <tr>\n",
       "      <th>2</th>\n",
       "      <td>3</td>\n",
       "      <td>\"You don't understand! I coulda had class. I c...</td>\n",
       "      <td>Terry Malloy</td>\n",
       "      <td>Marlon Brando</td>\n",
       "      <td>On the Waterfront</td>\n",
       "      <td>1954</td>\n",
       "    </tr>\n",
       "    <tr>\n",
       "      <th>3</th>\n",
       "      <td>4</td>\n",
       "      <td>\"Toto, I've a feeling we're not in Kansas anym...</td>\n",
       "      <td>Dorothy Gale</td>\n",
       "      <td>Judy Garland</td>\n",
       "      <td>The Wizard of Oz</td>\n",
       "      <td>1939</td>\n",
       "    </tr>\n",
       "    <tr>\n",
       "      <th>4</th>\n",
       "      <td>5</td>\n",
       "      <td>\"Here's looking at you, kid.\"</td>\n",
       "      <td>Rick Blaine</td>\n",
       "      <td>Humphrey Bogart</td>\n",
       "      <td>Casablanca</td>\n",
       "      <td>1942</td>\n",
       "    </tr>\n",
       "    <tr>\n",
       "      <th>...</th>\n",
       "      <td>...</td>\n",
       "      <td>...</td>\n",
       "      <td>...</td>\n",
       "      <td>...</td>\n",
       "      <td>...</td>\n",
       "      <td>...</td>\n",
       "    </tr>\n",
       "    <tr>\n",
       "      <th>95</th>\n",
       "      <td>96</td>\n",
       "      <td>\"Snap out of it!\"</td>\n",
       "      <td>Loretta Castorini</td>\n",
       "      <td>Cher</td>\n",
       "      <td>Moonstruck</td>\n",
       "      <td>1987</td>\n",
       "    </tr>\n",
       "    <tr>\n",
       "      <th>96</th>\n",
       "      <td>97</td>\n",
       "      <td>\"My mother thanks you. My father thanks you. M...</td>\n",
       "      <td>George M. Cohan</td>\n",
       "      <td>James Cagney</td>\n",
       "      <td>Yankee Doodle Dandy</td>\n",
       "      <td>1942</td>\n",
       "    </tr>\n",
       "    <tr>\n",
       "      <th>97</th>\n",
       "      <td>98</td>\n",
       "      <td>\"Nobody puts Baby in a corner.\"</td>\n",
       "      <td>Johnny Castle</td>\n",
       "      <td>Patrick Swayze</td>\n",
       "      <td>Dirty Dancing</td>\n",
       "      <td>1987</td>\n",
       "    </tr>\n",
       "    <tr>\n",
       "      <th>98</th>\n",
       "      <td>99</td>\n",
       "      <td>\"I'll get you, my pretty, and your little dog ...</td>\n",
       "      <td>Wicked Witch of the West</td>\n",
       "      <td>Margaret Hamilton</td>\n",
       "      <td>The Wizard of Oz</td>\n",
       "      <td>1939</td>\n",
       "    </tr>\n",
       "    <tr>\n",
       "      <th>99</th>\n",
       "      <td>100</td>\n",
       "      <td>\"I'm the king of the world!\"[34]</td>\n",
       "      <td>Jack Dawson</td>\n",
       "      <td>Leonardo DiCaprio</td>\n",
       "      <td>Titanic</td>\n",
       "      <td>1997</td>\n",
       "    </tr>\n",
       "  </tbody>\n",
       "</table>\n",
       "<p>100 rows × 6 columns</p>\n",
       "</div>"
      ],
      "text/plain": [
       "   Rank                                          Quotation  \\\n",
       "0     1           \"Frankly, my dear, I don't give a damn.\"   \n",
       "1     2     \"I'm gonna make him an offer he can't refuse.\"   \n",
       "2     3  \"You don't understand! I coulda had class. I c...   \n",
       "3     4  \"Toto, I've a feeling we're not in Kansas anym...   \n",
       "4     5                      \"Here's looking at you, kid.\"   \n",
       "..  ...                                                ...   \n",
       "95   96                                  \"Snap out of it!\"   \n",
       "96   97  \"My mother thanks you. My father thanks you. M...   \n",
       "97   98                    \"Nobody puts Baby in a corner.\"   \n",
       "98   99  \"I'll get you, my pretty, and your little dog ...   \n",
       "99  100                   \"I'm the king of the world!\"[34]   \n",
       "\n",
       "                   Character      Actor/Actress                 Film  Year  \n",
       "0               Rhett Butler        Clark Gable   Gone with the Wind  1939  \n",
       "1              Vito Corleone      Marlon Brando        The Godfather  1972  \n",
       "2               Terry Malloy      Marlon Brando    On the Waterfront  1954  \n",
       "3               Dorothy Gale       Judy Garland     The Wizard of Oz  1939  \n",
       "4                Rick Blaine    Humphrey Bogart           Casablanca  1942  \n",
       "..                       ...                ...                  ...   ...  \n",
       "95         Loretta Castorini               Cher           Moonstruck  1987  \n",
       "96           George M. Cohan       James Cagney  Yankee Doodle Dandy  1942  \n",
       "97             Johnny Castle     Patrick Swayze        Dirty Dancing  1987  \n",
       "98  Wicked Witch of the West  Margaret Hamilton     The Wizard of Oz  1939  \n",
       "99               Jack Dawson  Leonardo DiCaprio              Titanic  1997  \n",
       "\n",
       "[100 rows x 6 columns]"
      ]
     },
     "execution_count": 4,
     "metadata": {},
     "output_type": "execute_result"
    }
   ],
   "source": [
    "\n",
    "data = []\n",
    "for row in rows[1:]:\n",
    "    cols = row.find_all('td')\n",
    "    cols = [ele.text.strip() for ele in cols]\n",
    "    data.append(cols)\n",
    "\n",
    "df = pd.DataFrame(data,columns=header)\n",
    "df"
   ]
  },
  {
   "cell_type": "markdown",
   "metadata": {},
   "source": [
    "## Retrieve poster images"
   ]
  },
  {
   "cell_type": "code",
   "execution_count": 32,
   "metadata": {},
   "outputs": [
    {
     "data": {
      "text/plain": [
       "'/wiki/Gone_with_the_Wind_(film)'"
      ]
     },
     "execution_count": 32,
     "metadata": {},
     "output_type": "execute_result"
    }
   ],
   "source": [
    "# Retrieve poster images\n",
    "col1 = rows[1].find_all('td')\n",
    "col1[4].a.get('href')"
   ]
  },
  {
   "cell_type": "code",
   "execution_count": 40,
   "metadata": {},
   "outputs": [
    {
     "data": {
      "text/plain": [
       "'//upload.wikimedia.org/wikipedia/commons/thumb/2/27/Poster_-_Gone_With_the_Wind_01.jpg/220px-Poster_-_Gone_With_the_Wind_01.jpg'"
      ]
     },
     "execution_count": 40,
     "metadata": {},
     "output_type": "execute_result"
    }
   ],
   "source": [
    "wiki = \"https://en.wikipedia.org/\"\n",
    "p = rq.get(wiki+col1[4].a.get('href')).text\n",
    "\n",
    "soup = BeautifulSoup(p, 'html.parser')\n",
    "tdimg = soup.find(\"td\", attrs={\"class\":\"infobox-image\"})\n",
    "src = tdimg.img.get(\"src\")\n",
    "src\n"
   ]
  },
  {
   "cell_type": "code",
   "execution_count": 49,
   "metadata": {},
   "outputs": [],
   "source": [
    "img = rq.get(\"https:\"+src).content"
   ]
  },
  {
   "cell_type": "code",
   "execution_count": 50,
   "metadata": {},
   "outputs": [],
   "source": [
    "from PIL import Image\n",
    "from io import BytesIO\n",
    "im = Image.open(BytesIO(img))\n",
    "# im.show() # open image outside of the notebook"
   ]
  },
  {
   "cell_type": "code",
   "execution_count": 53,
   "metadata": {},
   "outputs": [
    {
     "data": {
      "image/jpeg": "[encoded data removed]",
      "text/plain": [
       "<IPython.core.display.Image object>"
      ]
     },
     "execution_count": 53,
     "metadata": {},
     "output_type": "execute_result"
    }
   ],
   "source": [
    "from IPython import display\n",
    "display.Image(img)"
   ]
  },
  {
   "cell_type": "code",
   "execution_count": 59,
   "metadata": {},
   "outputs": [],
   "source": [
    "# https://www.tutorialspoint.com/downloading-files-from-web-using-python\n",
    "wiki = \"https://en.wikipedia.org/\"\n",
    "for row in rows[1:]:\n",
    "    cols = row.find_all('td')\n",
    "    p = rq.get(wiki+cols[4].a.get('href')).text\n",
    "    soup = BeautifulSoup(p, 'html.parser')\n",
    "    tdimg = soup.find(\"td\", attrs={\"class\":\"infobox-image\"})\n",
    "    src = tdimg.img.get(\"src\")\n",
    "    img = rq.get(\"https:\"+src).content\n",
    "    with open(\"posters/\"+cols[0].text.strip(),\"wb\") as f:\n",
    "        f.write(img)"
   ]
  },
  {
   "cell_type": "markdown",
   "metadata": {},
   "source": [
    "## Post-process wikipedia table "
   ]
  },
  {
   "cell_type": "markdown",
   "metadata": {},
   "source": [
    "Remove Wikipedia quotes like [3]\n",
    "\n",
    "https://stackoverflow.com/questions/5658369/how-to-input-a-regex-in-string-replace"
   ]
  },
  {
   "cell_type": "code",
   "execution_count": 8,
   "metadata": {},
   "outputs": [
    {
     "data": {
      "text/plain": [
       "'\"Toto, I\\'ve a feeling we\\'re not in Kansas anymore.\"'"
      ]
     },
     "execution_count": 8,
     "metadata": {},
     "output_type": "execute_result"
    }
   ],
   "source": [
    "import re\n",
    "q = df.Quotation[3]\n",
    "line = re.sub(r\"\\[\\d+\\]\",\"\",q)\n",
    "line"
   ]
  },
  {
   "cell_type": "code",
   "execution_count": 62,
   "metadata": {},
   "outputs": [],
   "source": [
    "for i in range(100):\n",
    "    df.Film[i] = re.sub(r\"\\[\\d+\\]\",\"\",df.Film[i])"
   ]
  },
  {
   "cell_type": "code",
   "execution_count": 63,
   "metadata": {},
   "outputs": [],
   "source": [
    "df.to_csv(\"movie_quotes_list.csv\")"
   ]
  },
  {
   "cell_type": "code",
   "execution_count": 64,
   "metadata": {},
   "outputs": [
    {
     "data": {
      "text/html": [
       "<div>\n",
       "<style scoped>\n",
       "    .dataframe tbody tr th:only-of-type {\n",
       "        vertical-align: middle;\n",
       "    }\n",
       "\n",
       "    .dataframe tbody tr th {\n",
       "        vertical-align: top;\n",
       "    }\n",
       "\n",
       "    .dataframe thead th {\n",
       "        text-align: right;\n",
       "    }\n",
       "</style>\n",
       "<table border=\"1\" class=\"dataframe\">\n",
       "  <thead>\n",
       "    <tr style=\"text-align: right;\">\n",
       "      <th></th>\n",
       "      <th>Rank</th>\n",
       "      <th>Quotation</th>\n",
       "      <th>Character</th>\n",
       "      <th>Actor/Actress</th>\n",
       "      <th>Film</th>\n",
       "      <th>Year</th>\n",
       "    </tr>\n",
       "  </thead>\n",
       "  <tbody>\n",
       "    <tr>\n",
       "      <th>0</th>\n",
       "      <td>1</td>\n",
       "      <td>\"Frankly, my dear, I don't give a damn.\"</td>\n",
       "      <td>Rhett Butler</td>\n",
       "      <td>Clark Gable</td>\n",
       "      <td>Gone with the Wind</td>\n",
       "      <td>1939</td>\n",
       "    </tr>\n",
       "    <tr>\n",
       "      <th>1</th>\n",
       "      <td>2</td>\n",
       "      <td>\"I'm gonna make him an offer he can't refuse.\"</td>\n",
       "      <td>Vito Corleone</td>\n",
       "      <td>Marlon Brando</td>\n",
       "      <td>The Godfather</td>\n",
       "      <td>1972</td>\n",
       "    </tr>\n",
       "    <tr>\n",
       "      <th>2</th>\n",
       "      <td>3</td>\n",
       "      <td>\"You don't understand! I coulda had class. I c...</td>\n",
       "      <td>Terry Malloy</td>\n",
       "      <td>Marlon Brando</td>\n",
       "      <td>On the Waterfront</td>\n",
       "      <td>1954</td>\n",
       "    </tr>\n",
       "    <tr>\n",
       "      <th>3</th>\n",
       "      <td>4</td>\n",
       "      <td>\"Toto, I've a feeling we're not in Kansas anym...</td>\n",
       "      <td>Dorothy Gale</td>\n",
       "      <td>Judy Garland</td>\n",
       "      <td>The Wizard of Oz</td>\n",
       "      <td>1939</td>\n",
       "    </tr>\n",
       "    <tr>\n",
       "      <th>4</th>\n",
       "      <td>5</td>\n",
       "      <td>\"Here's looking at you, kid.\"</td>\n",
       "      <td>Rick Blaine</td>\n",
       "      <td>Humphrey Bogart</td>\n",
       "      <td>Casablanca</td>\n",
       "      <td>1942</td>\n",
       "    </tr>\n",
       "    <tr>\n",
       "      <th>...</th>\n",
       "      <td>...</td>\n",
       "      <td>...</td>\n",
       "      <td>...</td>\n",
       "      <td>...</td>\n",
       "      <td>...</td>\n",
       "      <td>...</td>\n",
       "    </tr>\n",
       "    <tr>\n",
       "      <th>95</th>\n",
       "      <td>96</td>\n",
       "      <td>\"Snap out of it!\"</td>\n",
       "      <td>Loretta Castorini</td>\n",
       "      <td>Cher</td>\n",
       "      <td>Moonstruck</td>\n",
       "      <td>1987</td>\n",
       "    </tr>\n",
       "    <tr>\n",
       "      <th>96</th>\n",
       "      <td>97</td>\n",
       "      <td>\"My mother thanks you. My father thanks you. M...</td>\n",
       "      <td>George M. Cohan</td>\n",
       "      <td>James Cagney</td>\n",
       "      <td>Yankee Doodle Dandy</td>\n",
       "      <td>1942</td>\n",
       "    </tr>\n",
       "    <tr>\n",
       "      <th>97</th>\n",
       "      <td>98</td>\n",
       "      <td>\"Nobody puts Baby in a corner.\"</td>\n",
       "      <td>Johnny Castle</td>\n",
       "      <td>Patrick Swayze</td>\n",
       "      <td>Dirty Dancing</td>\n",
       "      <td>1987</td>\n",
       "    </tr>\n",
       "    <tr>\n",
       "      <th>98</th>\n",
       "      <td>99</td>\n",
       "      <td>\"I'll get you, my pretty, and your little dog ...</td>\n",
       "      <td>Wicked Witch of the West</td>\n",
       "      <td>Margaret Hamilton</td>\n",
       "      <td>The Wizard of Oz</td>\n",
       "      <td>1939</td>\n",
       "    </tr>\n",
       "    <tr>\n",
       "      <th>99</th>\n",
       "      <td>100</td>\n",
       "      <td>\"I'm the king of the world!\"</td>\n",
       "      <td>Jack Dawson</td>\n",
       "      <td>Leonardo DiCaprio</td>\n",
       "      <td>Titanic</td>\n",
       "      <td>1997</td>\n",
       "    </tr>\n",
       "  </tbody>\n",
       "</table>\n",
       "<p>100 rows × 6 columns</p>\n",
       "</div>"
      ],
      "text/plain": [
       "    Rank                                          Quotation  \\\n",
       "0      1           \"Frankly, my dear, I don't give a damn.\"   \n",
       "1      2     \"I'm gonna make him an offer he can't refuse.\"   \n",
       "2      3  \"You don't understand! I coulda had class. I c...   \n",
       "3      4  \"Toto, I've a feeling we're not in Kansas anym...   \n",
       "4      5                      \"Here's looking at you, kid.\"   \n",
       "..   ...                                                ...   \n",
       "95    96                                  \"Snap out of it!\"   \n",
       "96    97  \"My mother thanks you. My father thanks you. M...   \n",
       "97    98                    \"Nobody puts Baby in a corner.\"   \n",
       "98    99  \"I'll get you, my pretty, and your little dog ...   \n",
       "99   100                       \"I'm the king of the world!\"   \n",
       "\n",
       "                   Character      Actor/Actress                 Film  Year  \n",
       "0               Rhett Butler        Clark Gable   Gone with the Wind  1939  \n",
       "1              Vito Corleone      Marlon Brando        The Godfather  1972  \n",
       "2               Terry Malloy      Marlon Brando    On the Waterfront  1954  \n",
       "3               Dorothy Gale       Judy Garland     The Wizard of Oz  1939  \n",
       "4                Rick Blaine    Humphrey Bogart           Casablanca  1942  \n",
       "..                       ...                ...                  ...   ...  \n",
       "95         Loretta Castorini               Cher           Moonstruck  1987  \n",
       "96           George M. Cohan       James Cagney  Yankee Doodle Dandy  1942  \n",
       "97             Johnny Castle     Patrick Swayze        Dirty Dancing  1987  \n",
       "98  Wicked Witch of the West  Margaret Hamilton     The Wizard of Oz  1939  \n",
       "99               Jack Dawson  Leonardo DiCaprio              Titanic  1997  \n",
       "\n",
       "[100 rows x 6 columns]"
      ]
     },
     "execution_count": 64,
     "metadata": {},
     "output_type": "execute_result"
    }
   ],
   "source": [
    "pd.read_csv(\"movie_quotes_list.csv\",index_col=\"Unnamed: 0\")"
   ]
  },
  {
   "cell_type": "markdown",
   "metadata": {},
   "source": [
    "## Retrieve quotes videos from Youtube "
   ]
  },
  {
   "cell_type": "code",
   "execution_count": 12,
   "metadata": {},
   "outputs": [
    {
     "data": {
      "text/plain": [
       "'\"Frankly, my dear, I don\\'t give a damn.\" Gone with the Wind'"
      ]
     },
     "execution_count": 12,
     "metadata": {},
     "output_type": "execute_result"
    }
   ],
   "source": [
    "df.Quotation[0] + \" \" + df.Film[0]"
   ]
  },
  {
   "cell_type": "code",
   "execution_count": 13,
   "metadata": {},
   "outputs": [
    {
     "name": "stderr",
     "output_type": "stream",
     "text": [
      "Unexpected renderer encountered.\n",
      "Renderer name: dict_keys(['movieRenderer'])\n",
      "Search term: \"Frankly, my dear, I don't give a damn.\" Gone with the Wind\n",
      "Please open an issue at https://github.com/pytube/pytube/issues and provide this log output.\n"
     ]
    }
   ],
   "source": [
    "from pytube import Search\n",
    "s = Search(df.Quotation[0] + \" \" + df.Film[0])\n",
    "yt = s.results[0]"
   ]
  },
  {
   "cell_type": "code",
   "execution_count": 14,
   "metadata": {},
   "outputs": [
    {
     "data": {
      "text/plain": [
       "'https://youtube.com/watch?v=GQ5ICXMC4xY'"
      ]
     },
     "execution_count": 14,
     "metadata": {},
     "output_type": "execute_result"
    }
   ],
   "source": [
    "yt.watch_url"
   ]
  },
  {
   "cell_type": "code",
   "execution_count": 23,
   "metadata": {},
   "outputs": [
    {
     "data": {
      "text/plain": [
       "<Stream: itag=\"160\" mime_type=\"video/mp4\" res=\"144p\" fps=\"24fps\" vcodec=\"avc1.4d400c\" progressive=\"False\" type=\"video\">"
      ]
     },
     "execution_count": 23,
     "metadata": {},
     "output_type": "execute_result"
    }
   ],
   "source": [
    "yt.streams.filter(file_extension='mp4').order_by('resolution').first()"
   ]
  },
  {
   "cell_type": "code",
   "execution_count": 16,
   "metadata": {},
   "outputs": [
    {
     "data": {
      "text/plain": [
       "<Stream: itag=\"17\" mime_type=\"video/3gpp\" res=\"144p\" fps=\"12fps\" vcodec=\"mp4v.20.3\" acodec=\"mp4a.40.2\" progressive=\"True\" type=\"video\">"
      ]
     },
     "execution_count": 16,
     "metadata": {},
     "output_type": "execute_result"
    }
   ],
   "source": [
    "video = yt.streams.first()\n",
    "video\n",
    "# video.download('downloads')"
   ]
  },
  {
   "cell_type": "code",
   "execution_count": 12,
   "metadata": {},
   "outputs": [
    {
     "data": {
      "text/plain": [
       "'d:\\\\devel\\\\english\\\\downloads/video_1\\\\Frankly My Dear I Dont Give a Damn - Gone with the Wind (66) Movie CLIP (1939) HD.3gpp'"
      ]
     },
     "execution_count": 12,
     "metadata": {},
     "output_type": "execute_result"
    }
   ],
   "source": [
    "video.download('downloads/video_1')"
   ]
  },
  {
   "cell_type": "code",
   "execution_count": 18,
   "metadata": {},
   "outputs": [
    {
     "data": {
      "text/plain": [
       "'\"A martini. Shaken, not stirred.\"[30] Goldfinger[31]'"
      ]
     },
     "execution_count": 18,
     "metadata": {},
     "output_type": "execute_result"
    }
   ],
   "source": [
    "i = 89\n",
    "df.Quotation[i] + \" \" + df.Film[i]"
   ]
  },
  {
   "cell_type": "code",
   "execution_count": 19,
   "metadata": {},
   "outputs": [
    {
     "data": {
      "text/plain": [
       "'d:\\\\devel\\\\english\\\\downloads/video_89\\\\A martini shaken not stirred - Sean Connery - Goldfinger.3gpp'"
      ]
     },
     "execution_count": 19,
     "metadata": {},
     "output_type": "execute_result"
    }
   ],
   "source": [
    "from pytube import YouTube\n",
    "\n",
    "url = \"https://www.youtube.com/watch?v=UUI65HYqQw0\"\n",
    "yt = YouTube(url)\n",
    "video = yt.streams.first()\n",
    "video.download('downloads/video_'+str(89))"
   ]
  },
  {
   "cell_type": "code",
   "execution_count": 25,
   "metadata": {},
   "outputs": [
    {
     "name": "stderr",
     "output_type": "stream",
     "text": [
      "Unexpected renderer encountered.\n",
      "Renderer name: dict_keys(['movieRenderer'])\n",
      "Search term: \"Frankly, my dear, I don't give a damn.\" Gone with the Wind\n",
      "Please open an issue at https://github.com/pytube/pytube/issues and provide this log output.\n",
      "Unexpected renderer encountered.\n",
      "Renderer name: dict_keys(['movieRenderer'])\n",
      "Search term: \"I'm gonna make him an offer he can't refuse.\" The Godfather\n",
      "Please open an issue at https://github.com/pytube/pytube/issues and provide this log output.\n",
      "Unexpected renderer encountered.\n",
      "Renderer name: dict_keys(['movieRenderer'])\n",
      "Search term: \"Toto, I've a feeling we're not in Kansas anymore.\" The Wizard of Oz\n",
      "Please open an issue at https://github.com/pytube/pytube/issues and provide this log output.\n",
      "Unexpected renderer encountered.\n",
      "Renderer name: dict_keys(['movieRenderer'])\n",
      "Search term: \"Here's looking at you, kid.\" Casablanca\n",
      "Please open an issue at https://github.com/pytube/pytube/issues and provide this log output.\n",
      "Unexpected renderer encountered.\n",
      "Renderer name: dict_keys(['movieRenderer'])\n",
      "Search term: \"Go ahead, make my day.\" Sudden Impact[6]\n",
      "Please open an issue at https://github.com/pytube/pytube/issues and provide this log output.\n",
      "Unexpected renderer encountered.\n",
      "Renderer name: dict_keys(['movieRenderer'])\n",
      "Search term: \"You talkin' to me?\" Taxi Driver\n",
      "Please open an issue at https://github.com/pytube/pytube/issues and provide this log output.\n",
      "Unexpected renderer encountered.\n",
      "Renderer name: dict_keys(['movieRenderer'])\n",
      "Search term: \"What we've got here is failure to communicate.\" Cool Hand Luke\n",
      "Please open an issue at https://github.com/pytube/pytube/issues and provide this log output.\n",
      "Unexpected renderer encountered.\n",
      "Renderer name: dict_keys(['movieRenderer'])\n",
      "Search term: \"Love means never having to say you're sorry.\" Love Story\n",
      "Please open an issue at https://github.com/pytube/pytube/issues and provide this log output.\n",
      "Unexpected renderer encountered.\n",
      "Renderer name: dict_keys(['movieRenderer'])\n",
      "Search term: \"The stuff that dreams are made of.\" The Maltese Falcon\n",
      "Please open an issue at https://github.com/pytube/pytube/issues and provide this log output.\n",
      "Unexpected renderer encountered.\n",
      "Renderer name: dict_keys(['movieRenderer'])\n",
      "Search term: \"E.T. phone home.\" E.T. the Extra-Terrestrial\n",
      "Please open an issue at https://github.com/pytube/pytube/issues and provide this log output.\n",
      "Unexpected renderer encountered.\n",
      "Renderer name: dict_keys(['movieRenderer'])\n",
      "Search term: \"Rosebud.\" Citizen Kane\n",
      "Please open an issue at https://github.com/pytube/pytube/issues and provide this log output.\n",
      "Unexpected renderer encountered.\n",
      "Renderer name: dict_keys(['movieRenderer'])\n",
      "Search term: \"I'm as mad as hell, and I'm not going to take this anymore!\" Network\n",
      "Please open an issue at https://github.com/pytube/pytube/issues and provide this log output.\n",
      "Unexpected renderer encountered.\n",
      "Renderer name: dict_keys(['movieRenderer'])\n",
      "Search term: \"Bond. James Bond.\" Dr. No[10]\n",
      "Please open an issue at https://github.com/pytube/pytube/issues and provide this log output.\n",
      "Unexpected renderer encountered.\n",
      "Renderer name: dict_keys(['movieRenderer'])\n",
      "Search term: \"There's no place like home.\" The Wizard of Oz\n",
      "Please open an issue at https://github.com/pytube/pytube/issues and provide this log output.\n",
      "Unexpected renderer encountered.\n",
      "Renderer name: dict_keys(['movieRenderer'])\n",
      "Search term: \"Show me the money!\" Jerry Maguire\n",
      "Please open an issue at https://github.com/pytube/pytube/issues and provide this log output.\n",
      "Unexpected renderer encountered.\n",
      "Renderer name: dict_keys(['movieRenderer'])\n",
      "Search term: \"Play it, Sam. Play 'As Time Goes By.'\" Casablanca\n",
      "Please open an issue at https://github.com/pytube/pytube/issues and provide this log output.\n",
      "Unexpected renderer encountered.\n",
      "Renderer name: dict_keys(['movieRenderer'])\n",
      "Search term: \"After all, tomorrow is another day!\" Gone with the Wind\n",
      "Please open an issue at https://github.com/pytube/pytube/issues and provide this log output.\n",
      "Unexpected renderer encountered.\n",
      "Renderer name: dict_keys(['movieRenderer'])\n",
      "Search term: \"Round up the usual suspects.\" Casablanca\n",
      "Please open an issue at https://github.com/pytube/pytube/issues and provide this log output.\n",
      "Unexpected renderer encountered.\n",
      "Renderer name: dict_keys(['movieRenderer'])\n",
      "Search term: \"You're gonna need a bigger boat.\" Jaws\n",
      "Please open an issue at https://github.com/pytube/pytube/issues and provide this log output.\n",
      "Unexpected renderer encountered.\n",
      "Renderer name: dict_keys(['movieRenderer'])\n",
      "Search term: \"I'll be back!\" The Terminator\n",
      "Please open an issue at https://github.com/pytube/pytube/issues and provide this log output.\n",
      "Unexpected renderer encountered.\n",
      "Renderer name: dict_keys(['movieRenderer'])\n",
      "Search term: \"If you build it, he will come.\" Field of Dreams\n",
      "Please open an issue at https://github.com/pytube/pytube/issues and provide this log output.\n",
      "Unexpected renderer encountered.\n",
      "Renderer name: dict_keys(['movieRenderer'])\n",
      "Search term: \"Mama always said life was like a box of chocolates. You never know what you're gonna get.\" Forrest Gump\n",
      "Please open an issue at https://github.com/pytube/pytube/issues and provide this log output.\n",
      "Unexpected renderer encountered.\n",
      "Renderer name: dict_keys(['movieRenderer'])\n",
      "Search term: \"Plastics.\" The Graduate\n",
      "Please open an issue at https://github.com/pytube/pytube/issues and provide this log output.\n",
      "Unexpected renderer encountered.\n",
      "Renderer name: dict_keys(['movieRenderer'])\n",
      "Search term: \"We'll always have Paris.\" Casablanca\n",
      "Please open an issue at https://github.com/pytube/pytube/issues and provide this log output.\n",
      "Unexpected renderer encountered.\n",
      "Renderer name: dict_keys(['movieRenderer'])\n",
      "Search term: \"I see dead people.\" The Sixth Sense\n",
      "Please open an issue at https://github.com/pytube/pytube/issues and provide this log output.\n",
      "Unexpected renderer encountered.\n",
      "Renderer name: dict_keys(['movieRenderer'])\n",
      "Search term: \"You had me at 'hello.'\" Jerry Maguire\n",
      "Please open an issue at https://github.com/pytube/pytube/issues and provide this log output.\n",
      "Unexpected renderer encountered.\n",
      "Renderer name: dict_keys(['movieRenderer'])\n",
      "Search term: \"A boy's best friend is his mother.\" Psycho\n",
      "Please open an issue at https://github.com/pytube/pytube/issues and provide this log output.\n",
      "Unexpected renderer encountered.\n",
      "Renderer name: dict_keys(['movieRenderer'])\n",
      "Search term: \"Keep your friends close, but your enemies closer.\" The Godfather Part II\n",
      "Please open an issue at https://github.com/pytube/pytube/issues and provide this log output.\n",
      "Unexpected renderer encountered.\n",
      "Renderer name: dict_keys(['movieRenderer'])\n",
      "Search term: \"As God is my witness, I'll never be hungry again.\" Gone with the Wind\n",
      "Please open an issue at https://github.com/pytube/pytube/issues and provide this log output.\n",
      "Unexpected renderer encountered.\n",
      "Renderer name: dict_keys(['movieRenderer'])\n",
      "Search term: \"Say 'hello' to my little friend!\" Scarface\n",
      "Please open an issue at https://github.com/pytube/pytube/issues and provide this log output.\n",
      "Unexpected renderer encountered.\n",
      "Renderer name: dict_keys(['movieRenderer'])\n",
      "Search term: \"Mrs. Robinson, you're trying to seduce me. Aren't you?\" The Graduate\n",
      "Please open an issue at https://github.com/pytube/pytube/issues and provide this log output.\n",
      "Unexpected renderer encountered.\n",
      "Renderer name: dict_keys(['movieRenderer'])\n",
      "Search term: \"Gentlemen, you can't fight in here! This is the War Room!\" Dr. Strangelove\n",
      "Please open an issue at https://github.com/pytube/pytube/issues and provide this log output.\n",
      "Unexpected renderer encountered.\n",
      "Renderer name: dict_keys(['showingResultsForRenderer'])\n",
      "Search term: \"Get your stinking paws off me, you damned dirty ape.\" Planet of the Apes\n",
      "Please open an issue at https://github.com/pytube/pytube/issues and provide this log output.\n",
      "Unexpected renderer encountered.\n",
      "Renderer name: dict_keys(['movieRenderer'])\n",
      "Search term: \"Of all the gin joints in all the towns in all the world, she walks into mine.\" Casablanca\n",
      "Please open an issue at https://github.com/pytube/pytube/issues and provide this log output.\n",
      "Unexpected renderer encountered.\n",
      "Renderer name: dict_keys(['movieRenderer'])\n",
      "Search term: \"Here's Johnny!\" The Shining\n",
      "Please open an issue at https://github.com/pytube/pytube/issues and provide this log output.\n",
      "Unexpected renderer encountered.\n",
      "Renderer name: dict_keys(['movieRenderer'])\n",
      "Search term: \"They're here!\" Poltergeist\n",
      "Please open an issue at https://github.com/pytube/pytube/issues and provide this log output.\n",
      "Unexpected renderer encountered.\n",
      "Renderer name: dict_keys(['movieRenderer'])\n",
      "Search term: \"I have always depended on the kindness of strangers.\" A Streetcar Named Desire\n",
      "Please open an issue at https://github.com/pytube/pytube/issues and provide this log output.\n",
      "Unexpected renderer encountered.\n",
      "Renderer name: dict_keys(['movieRenderer'])\n",
      "Search term: \"Hasta la vista, baby.\" Terminator 2: Judgment Day\n",
      "Please open an issue at https://github.com/pytube/pytube/issues and provide this log output.\n",
      "Unexpected renderer encountered.\n",
      "Renderer name: dict_keys(['movieRenderer'])\n",
      "Search term: \"Hasta la vista, baby.\" Terminator 2: Judgment Day\n",
      "Please open an issue at https://github.com/pytube/pytube/issues and provide this log output.\n",
      "Unexpected renderer encountered.\n",
      "Renderer name: dict_keys(['movieRenderer'])\n",
      "Search term: \"Soylent Green is people!\" Soylent Green\n",
      "Please open an issue at https://github.com/pytube/pytube/issues and provide this log output.\n",
      "Unexpected renderer encountered.\n",
      "Renderer name: dict_keys(['movieRenderer'])\n",
      "Search term: \"Open the pod bay doors, HAL.\" 2001: A Space Odyssey\n",
      "Please open an issue at https://github.com/pytube/pytube/issues and provide this log output.\n",
      "Unexpected renderer encountered.\n",
      "Renderer name: dict_keys(['movieRenderer'])\n",
      "Search term: \"Yo, Adrian!\" Rocky\n",
      "Please open an issue at https://github.com/pytube/pytube/issues and provide this log output.\n",
      "Unexpected renderer encountered.\n",
      "Renderer name: dict_keys(['movieRenderer'])\n",
      "Search term: \"Toga! Toga!\" National Lampoon's Animal House\n",
      "Please open an issue at https://github.com/pytube/pytube/issues and provide this log output.\n",
      "Unexpected renderer encountered.\n",
      "Renderer name: dict_keys(['movieRenderer'])\n",
      "Search term: \"Attica! Attica!\" Dog Day Afternoon\n",
      "Please open an issue at https://github.com/pytube/pytube/issues and provide this log output.\n",
      "Unexpected renderer encountered.\n",
      "Renderer name: dict_keys(['movieRenderer'])\n",
      "Search term: \"I feel the need—the need for speed!\" Top Gun\n",
      "Please open an issue at https://github.com/pytube/pytube/issues and provide this log output.\n",
      "Unexpected renderer encountered.\n",
      "Renderer name: dict_keys(['movieRenderer'])\n",
      "Search term: \"Carpe diem. Seize the day, boys. Make your lives extraordinary.\" Dead Poets Society\n",
      "Please open an issue at https://github.com/pytube/pytube/issues and provide this log output.\n",
      "Unexpected renderer encountered.\n",
      "Renderer name: dict_keys(['movieRenderer'])\n",
      "Search term: \"Nobody puts Baby in a corner.\" Dirty Dancing\n",
      "Please open an issue at https://github.com/pytube/pytube/issues and provide this log output.\n",
      "Unexpected renderer encountered.\n",
      "Renderer name: dict_keys(['movieRenderer'])\n",
      "Search term: \"I'll get you, my pretty, and your little dog too!\" The Wizard of Oz\n",
      "Please open an issue at https://github.com/pytube/pytube/issues and provide this log output.\n",
      "Unexpected renderer encountered.\n",
      "Renderer name: dict_keys(['movieRenderer'])\n",
      "Search term: \"I'm the king of the world!\" Titanic\n",
      "Please open an issue at https://github.com/pytube/pytube/issues and provide this log output.\n"
     ]
    }
   ],
   "source": [
    "for i in range(100):\n",
    "    from pytube import Search\n",
    "    s = Search(df.Quotation[i] + \" \" + df.Film[i])\n",
    "    yt = s.results[0]\n",
    "    video = yt.streams.filter(progressive=True, file_extension='mp4').order_by('resolution').first()\n",
    "    video.download('downloads/video_'+str(i))"
   ]
  }
 ],
 "metadata": {
  "interpreter": {
   "hash": "5d0afc680ef930d32d960861d07fe5072cf577ab2b819485d9974f65e15b7ef5"
  },
  "kernelspec": {
   "display_name": "Python 3.9.1 64-bit",
   "language": "python",
   "name": "python3"
  },
  "language_info": {
   "codemirror_mode": {
    "name": "ipython",
    "version": 3
   },
   "file_extension": ".py",
   "mimetype": "text/x-python",
   "name": "python",
   "nbconvert_exporter": "python",
   "pygments_lexer": "ipython3",
   "version": "3.9.1"
  },
  "orig_nbformat": 4
 },
 "nbformat": 4,
 "nbformat_minor": 2
}
